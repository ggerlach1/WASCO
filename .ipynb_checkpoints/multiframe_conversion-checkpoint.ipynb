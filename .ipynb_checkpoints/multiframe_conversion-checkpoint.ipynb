{
 "cells": [
  {
   "cell_type": "markdown",
   "metadata": {},
   "source": [
    "## Convert multiframe .pdb to .xtc + single-frame .pdb with topology"
   ]
  },
  {
   "cell_type": "markdown",
   "metadata": {},
   "source": [
    "Import required libraries"
   ]
  },
  {
   "cell_type": "code",
   "execution_count": null,
   "metadata": {},
   "outputs": [],
   "source": [
    "import MDAnalysis\n",
    "import os "
   ]
  },
  {
   "cell_type": "markdown",
   "metadata": {},
   "source": [
    "If the ensemble's information is given through a single multiframe .pdb file, it must be converted using `multiframe_pdb_to_xtc`. This function takes the .pdb file as an input, and return a .xtc trajectory file together with a single-frame .pdb file, containing the ensemble's topological information. The produced pair of files can be now introduced as an input to `define_frames` to compute the corresponding samples of local and global structure."
   ]
  },
  {
   "cell_type": "markdown",
   "metadata": {},
   "source": [
    "The arguments of `multiframe_pdb_to_xtc` are:\n",
    "* `pdb_file`: path to the multiframe .pdb file.\n",
    "* `save_file`: path where the returned files must be saved.\n",
    "* `prot_name`: a string naming the files as prot_name.xtc, prot_name.pdb."
   ]
  },
  {
   "cell_type": "code",
   "execution_count": null,
   "metadata": {},
   "outputs": [],
   "source": [
    "def multiframe_pdb_to_xtc(pdb_file, save_path, prot_name):\n",
    "    \n",
    "    u = MDAnalysis.core.universe.Universe(pdb_file)\n",
    "    at = u.atoms\n",
    "    \n",
    "    os.chdir(save_path)\n",
    "       \n",
    "    # Write the trajectory in .xtc format\n",
    "    at.write(\".\".join([prot_name,'xtc']), frames='all')\n",
    "    # Write a frame of the trajectory in .pdb format for topology information\n",
    "    at.write(\".\".join([prot_name,'pdb']))"
   ]
  },
  {
   "cell_type": "markdown",
   "metadata": {},
   "source": [
    "## Executing the function"
   ]
  },
  {
   "cell_type": "code",
   "execution_count": null,
   "metadata": {},
   "outputs": [],
   "source": [
    "'''\n",
    "ensemble_name = 'my_ensemble'\n",
    "pdb_multiframe =  \"/path_to_multriframe_file/my_file.pdb\"\n",
    "save_here = \"/path_where_returned_files_are_saved\"\n",
    "\n",
    "multiframe_pdb_to_xtc(pdb_file = pdb_multiframe, save_path = save_here, prot_name = ensemble_name)\n",
    "'''"
   ]
  }
 ],
 "metadata": {
  "kernelspec": {
   "display_name": "Python 3",
   "language": "python",
   "name": "python3"
  },
  "language_info": {
   "codemirror_mode": {
    "name": "ipython",
    "version": 3
   },
   "file_extension": ".py",
   "mimetype": "text/x-python",
   "name": "python",
   "nbconvert_exporter": "python",
   "pygments_lexer": "ipython3",
   "version": "3.7.6"
  }
 },
 "nbformat": 4,
 "nbformat_minor": 5
}
