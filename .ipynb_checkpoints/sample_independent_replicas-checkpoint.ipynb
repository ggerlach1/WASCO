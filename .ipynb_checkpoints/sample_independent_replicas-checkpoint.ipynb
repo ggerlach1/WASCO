{
 "cells": [
  {
   "cell_type": "markdown",
   "metadata": {},
   "source": [
    "# Sampling indepedent replicas"
   ]
  },
  {
   "cell_type": "markdown",
   "metadata": {},
   "source": [
    "Import required libraries"
   ]
  },
  {
   "cell_type": "code",
   "execution_count": null,
   "metadata": {},
   "outputs": [],
   "source": [
    "import os\n",
    "import h5py\n",
    "import numpy as np"
   ]
  },
  {
   "cell_type": "markdown",
   "metadata": {},
   "source": [
    "When no independent replicas of the considered ensemble are provided, one can generate them by uniformly subsampling its conformations. This allows taking uncertainty into account and remove its effect when estimating differences between a pair of ensembles. The function `sample_ind_replicas` takes the samples of local and global structure computed with `define_frames` function, and samples a given number of independent replicas. Its arguments are:\n",
    "* `prot_name`: the ensemble's name, such that structures are saved as prot_name_coordinates.hdf5 and prot_name_dihedrals.hdf5.\n",
    "* `coordinates_path`: the path where the file prot_name_coordinates.hdf5 is located.\n",
    "* `dihedrals_path`: the path where the file prot_name_dihedrals.hdf5 is located.\n",
    "* `save_to`: the file where to save the produced replicas.\n",
    "* `N_replicas`: The number of replicas to generate. If `None`, it is asked as an input after printing the number of available conformations. \n",
    "\n",
    "The function prints the number of conformations that compose the given ensemble, and asks the practitioner to input the number of independent replicas to be sampled, if is has not been introduced as an argument. Then, it produces and saves the corresponding .hdf5 files."
   ]
  },
  {
   "cell_type": "code",
   "execution_count": null,
   "metadata": {},
   "outputs": [],
   "source": [
    "def sample_ind_replicas(prot_name, coordinates_path, dihedrals_path, save_to, N_replicas = None):\n",
    "    \n",
    "    os.chdir(coordinates_path)\n",
    "    h5f_1 = h5py.File(\"_\".join([prot_name,'coordinates.hdf5']),'r')\n",
    "    os.chdir(dihedrals_path)\n",
    "    h5f_2 = h5py.File(\"_\".join([prot_name,'dihedrals.hdf5']),'r')\n",
    "    N_conf = np.shape(h5f_1['ensemble'])[0]\n",
    "    print(\"\".join(['\\n',prot_name,' ensemble contains ',str(N_conf),' conformations.\\n']))\n",
    "    \n",
    "    if N_replicas is None:\n",
    "        N_replicas = float(input(\"Please introduce the number of independent replicas to sample:\\n\"))\n",
    "    \n",
    "    print('Sampling and saving files...\\n')\n",
    "    replicas_indices = np.random.choice(np.arange(N_replicas), size = N_conf, replace = True)\n",
    "    \n",
    "    os.chdir(save_to)\n",
    "    for i in np.arange(N_replicas):\n",
    "        h5f_1_i = h5py.File(\"_\".join([prot_name,str(int(i)),'coordinates.hdf5']),'w')\n",
    "        h5f_1_i.create_dataset(\"ensemble\", data = h5f_1[\"ensemble\"][replicas_indices == i,:,:])\n",
    "        h5f_1_i.close()\n",
    "        \n",
    "        h5f_2_i = h5py.File(\"_\".join([prot_name,str(int(i)),'dihedrals.hdf5']),'w')\n",
    "        h5f_2_i.create_dataset(\"ensemble\", data = h5f_2[\"ensemble\"][replicas_indices == i,:,:])\n",
    "        h5f_2_i.close()    "
   ]
  },
  {
   "cell_type": "markdown",
   "metadata": {},
   "source": [
    "## Executing the function"
   ]
  },
  {
   "cell_type": "code",
   "execution_count": null,
   "metadata": {},
   "outputs": [],
   "source": [
    "'''\n",
    "ensemble_name = 'my_ensemble'\n",
    "coordinates_folder = \"/path_to_coordinates_file\"\n",
    "dihedrals_folder = \"/path_to_dihedrals_file\"\n",
    "save_here = \"/save_replicas_here\"\n",
    "\n",
    "sample_ind_replicas(prot_name = ensemble_name, coordinates_path = coordinates_folder, dihedrals_path = dihedrals_folder, save_to = save_here)    \n",
    "'''"
   ]
  }
 ],
 "metadata": {
  "kernelspec": {
   "display_name": "Python 3",
   "language": "python",
   "name": "python3"
  },
  "language_info": {
   "codemirror_mode": {
    "name": "ipython",
    "version": 3
   },
   "file_extension": ".py",
   "mimetype": "text/x-python",
   "name": "python",
   "nbconvert_exporter": "python",
   "pygments_lexer": "ipython3",
   "version": "3.7.6"
  }
 },
 "nbformat": 4,
 "nbformat_minor": 5
}
